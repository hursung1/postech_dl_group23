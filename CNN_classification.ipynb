{
 "cells": [
  {
   "cell_type": "code",
   "execution_count": 1,
   "id": "50f121ae",
   "metadata": {},
   "outputs": [],
   "source": [
    "import pandas as pd\n",
    "import numpy as np #to read table\n",
    "from sklearn.model_selection import train_test_split #to split validation dataset\n",
    "from nltk.tokenize import word_tokenize\n",
    "from tensorflow.keras.preprocessing.text import Tokenizer #to tokenize sentence\n",
    "from tensorflow.keras.preprocessing.sequence import pad_sequences #to add padding\n",
    "from keras.utils.np_utils import to_categorical #to make one hot vector\n",
    "from tensorflow.keras.models import Sequential\n",
    "from tensorflow.keras.layers import Embedding, Conv1D, GlobalMaxPooling1D, Dense #to make 1D CNN model"
   ]
  },
  {
   "cell_type": "code",
   "execution_count": 2,
   "id": "6e8154c7",
   "metadata": {},
   "outputs": [
    {
     "name": "stderr",
     "output_type": "stream",
     "text": [
      "<ipython-input-2-217b99d5e9ca>:6: FutureWarning: The default value of regex will change from True to False in a future version.\n",
      "  train_data['Sentence'] = train_data['Sentence'].str.replace(\"[^a-zA-Z ]\",\"\")\n",
      "<ipython-input-2-217b99d5e9ca>:7: FutureWarning: The default value of regex will change from True to False in a future version.\n",
      "  test_data['Sentence'] = test_data['Sentence'].str.replace(\"[^a-zA-Z ]\",\"\")\n"
     ]
    }
   ],
   "source": [
    "#read table\n",
    "train_data = pd.read_table('train_final.csv',sep=',')\n",
    "test_data = pd.read_table('eval_final_open.csv',sep=',')\n",
    "\n",
    "#leave only alphabet\n",
    "train_data['Sentence'] = train_data['Sentence'].str.replace(\"[^a-zA-Z ]\",\"\")\n",
    "test_data['Sentence'] = test_data['Sentence'].str.replace(\"[^a-zA-Z ]\",\"\")\n",
    "\n",
    "#tokenization of train dataset and test dataset\n",
    "X_train = []\n",
    "for sentence in train_data['Sentence']:\n",
    "    temp_X_train = word_tokenize(sentence)\n",
    "    X_train.append(temp_X_train)\n",
    "\n",
    "X_test = []\n",
    "for sentence in test_data['Sentence']:\n",
    "    temp_X_test = word_tokenize(sentence)\n",
    "    X_test.append(temp_X_test)\n",
    "\n",
    "vocabulary = 15000\n",
    "\n",
    "tokenizer = Tokenizer(num_words = vocabulary)\n",
    "tokenizer.fit_on_texts(X_train)\n",
    "\n",
    "X_train = tokenizer.texts_to_sequences(X_train)\n",
    "X_test = tokenizer.texts_to_sequences(X_test)\n",
    "\n",
    "#assign label of train dataset\n",
    "y_train = np.array(train_data['Category'])\n",
    "\n",
    "#split train dataset and validation dataset\n",
    "X_train, X_val, y_train, y_val = train_test_split(X_train, y_train, train_size = len(X_train)-1000 ,shuffle = False)\n",
    "\n",
    "#padding\n",
    "padding = 35\n",
    "X_train = pad_sequences(X_train, maxlen = padding)\n",
    "X_val = pad_sequences(X_val, maxlen = padding)\n",
    "X_test = pad_sequences(X_test, maxlen = padding)\n",
    "\n",
    "#one hot encoding\n",
    "y_train = to_categorical(y_train)\n",
    "y_val = to_categorical(y_val)"
   ]
  },
  {
   "cell_type": "code",
   "execution_count": 3,
   "id": "6eb04c63",
   "metadata": {},
   "outputs": [
    {
     "name": "stdout",
     "output_type": "stream",
     "text": [
      "Epoch 1/10\n",
      "330/330 [==============================] - 9s 26ms/step - loss: 1.3988 - acc: 0.3917 - val_loss: 1.1652 - val_acc: 0.5300\n",
      "Epoch 2/10\n",
      "330/330 [==============================] - 8s 26ms/step - loss: 0.6691 - acc: 0.7513 - val_loss: 0.9275 - val_acc: 0.6580\n",
      "Epoch 3/10\n",
      "330/330 [==============================] - 8s 25ms/step - loss: 0.1208 - acc: 0.9672 - val_loss: 1.1669 - val_acc: 0.6670\n",
      "Epoch 4/10\n",
      "330/330 [==============================] - 8s 25ms/step - loss: 0.0211 - acc: 0.9963 - val_loss: 1.3700 - val_acc: 0.6900\n",
      "Epoch 5/10\n",
      "330/330 [==============================] - 8s 26ms/step - loss: 0.0051 - acc: 0.9993 - val_loss: 1.4259 - val_acc: 0.6730\n",
      "Epoch 6/10\n",
      "330/330 [==============================] - 8s 25ms/step - loss: 0.0027 - acc: 0.9999 - val_loss: 1.4431 - val_acc: 0.6750\n",
      "Epoch 7/10\n",
      "330/330 [==============================] - 8s 26ms/step - loss: 8.7109e-04 - acc: 1.0000 - val_loss: 1.4944 - val_acc: 0.6750\n",
      "Epoch 8/10\n",
      "330/330 [==============================] - 8s 26ms/step - loss: 5.4099e-04 - acc: 1.0000 - val_loss: 1.5567 - val_acc: 0.6770\n",
      "Epoch 9/10\n",
      "330/330 [==============================] - 8s 26ms/step - loss: 3.8010e-04 - acc: 1.0000 - val_loss: 1.6022 - val_acc: 0.6720\n",
      "Epoch 10/10\n",
      "330/330 [==============================] - 8s 26ms/step - loss: 2.2220e-04 - acc: 1.0000 - val_loss: 1.6444 - val_acc: 0.6680\n"
     ]
    },
    {
     "data": {
      "text/plain": [
       "<tensorflow.python.keras.callbacks.History at 0x1b2b6d35b50>"
      ]
     },
     "execution_count": 3,
     "metadata": {},
     "output_type": "execute_result"
    }
   ],
   "source": [
    "#make 1D CNN model\n",
    "model = Sequential()\n",
    "model.add(Embedding(vocabulary, 256))\n",
    "model.add(Conv1D(256, 3, padding='valid', activation='relu'))\n",
    "model.add(GlobalMaxPooling1D())\n",
    "model.add(Dense(128, activation='relu'))\n",
    "model.add(Dense(5, activation='softmax'))\n",
    "\n",
    "#learning\n",
    "model.compile(optimizer='adam', loss = 'categorical_crossentropy', metrics = ['acc'])\n",
    "model.fit(X_train, y_train, epochs = 10, validation_data = (X_val, y_val))"
   ]
  },
  {
   "cell_type": "code",
   "execution_count": 4,
   "id": "f1c8bfc8",
   "metadata": {},
   "outputs": [],
   "source": [
    "#make test label to submit\n",
    "y_temp = model.predict(X_test)\n",
    "y_test = []\n",
    "for i in range(y_temp.shape[0]):\n",
    "    temp_y_test = np.argmax(y_temp[i])\n",
    "    y_test.append(temp_y_test)\n",
    "\n",
    "#export as csv file\n",
    "y_test = np.reshape(y_test,(-1,1))\n",
    "np.savetxt('sub_label.csv',y_test,delimiter=\",\")"
   ]
  }
 ],
 "metadata": {
  "kernelspec": {
   "display_name": "Python 3",
   "language": "python",
   "name": "python3"
  },
  "language_info": {
   "codemirror_mode": {
    "name": "ipython",
    "version": 3
   },
   "file_extension": ".py",
   "mimetype": "text/x-python",
   "name": "python",
   "nbconvert_exporter": "python",
   "pygments_lexer": "ipython3",
   "version": "3.8.8"
  }
 },
 "nbformat": 4,
 "nbformat_minor": 5
}
